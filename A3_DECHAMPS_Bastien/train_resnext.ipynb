{
 "cells": [
  {
   "cell_type": "code",
   "execution_count": null,
   "metadata": {},
   "outputs": [],
   "source": [
    "import argparse\n",
    "import os\n",
    "import torch\n",
    "import torch.nn as nn\n",
    "import torch.optim as optim\n",
    "from torchvision import datasets\n",
    "from torch.autograd import Variable\n",
    "from tqdm import tqdm\n",
    "import matplotlib.pyplot as plt\n",
    "from time import time\n",
    "\n",
    "from train import train_model\n",
    "from model import *\n",
    "from data import *"
   ]
  },
  {
   "cell_type": "markdown",
   "metadata": {},
   "source": [
    "## Parameters"
   ]
  },
  {
   "cell_type": "code",
   "execution_count": null,
   "metadata": {},
   "outputs": [],
   "source": [
    "data_dir = 'bird_dataset'\n",
    "batch_size = 32\n",
    "epochs = 20\n",
    "lr = 0.005\n",
    "momentum = 0.9\n",
    "seed = 42\n",
    "save_dir = 'experiment'\n",
    "\n",
    "use_cuda = torch.cuda.is_available()\n",
    "torch.manual_seed(seed)"
   ]
  },
  {
   "cell_type": "markdown",
   "metadata": {},
   "source": [
    "## Data"
   ]
  },
  {
   "cell_type": "code",
   "execution_count": null,
   "metadata": {},
   "outputs": [],
   "source": [
    "mean_nums = [0.485, 0.456, 0.406]\n",
    "std_nums = [0.229, 0.224, 0.225]\n",
    "\n",
    "train_transforms = transforms.Compose([\n",
    "    transforms.Resize(size=256),\n",
    "    transforms.CenterCrop(size=224),\n",
    "    transforms.RandomRotation(degrees=10),\n",
    "    transforms.RandomHorizontalFlip(),\n",
    "    transforms.ToTensor(),\n",
    "    transforms.Normalize(mean_nums, std_nums)\n",
    "])\n",
    "\n",
    "val_transforms = transforms.Compose([\n",
    "    transforms.Resize(256),\n",
    "    transforms.CenterCrop(224),\n",
    "    transforms.ToTensor(),\n",
    "    transforms.Normalize(mean_nums, std_nums)\n",
    "])"
   ]
  },
  {
   "cell_type": "code",
   "execution_count": null,
   "metadata": {},
   "outputs": [],
   "source": [
    "my_datasets = {\n",
    "    'train': datasets.ImageFolder(\n",
    "        data_dir + '/train_images/',\n",
    "        transform=train_transforms\n",
    "    ),\n",
    "    'val': datasets.ImageFolder(\n",
    "        data_dir + '/val_images/',\n",
    "        transform=val_transforms\n",
    "    )\n",
    "}\n",
    "\n",
    "dataloaders = {\n",
    "    'train': torch.utils.data.DataLoader(\n",
    "        my_datasets['train'],\n",
    "        batch_size=batch_size,\n",
    "        shuffle=True, \n",
    "        num_workers=4\n",
    "    ),\n",
    "    'val': torch.utils.data.DataLoader(\n",
    "        my_datasets['val'],\n",
    "        batch_size=batch_size,\n",
    "        shuffle=False, \n",
    "        num_workers=4\n",
    "    )\n",
    "}"
   ]
  },
  {
   "cell_type": "markdown",
   "metadata": {},
   "source": [
    "## Model"
   ]
  },
  {
   "cell_type": "code",
   "execution_count": null,
   "metadata": {
    "scrolled": true
   },
   "outputs": [],
   "source": [
    "model = torch.hub.load('facebookresearch/WSL-Images', 'resnext101_32x8d_wsl')\n",
    "\n",
    "for child, layer in model.named_children():\n",
    "    if child != 'layer4':\n",
    "        for param in layer.parameters():\n",
    "            param.requires_grad = False\n",
    "        \n",
    "n_features = model.fc.in_features\n",
    "model.fc = nn.Linear(n_features, 20)\n",
    "\n",
    "if use_cuda:\n",
    "    print('Using GPU')\n",
    "    model.cuda()\n",
    "else:\n",
    "    print('Using CPU')\n",
    "    \n",
    "optimizer = optim.SGD(\n",
    "    model.parameters(), \n",
    "    lr=0.001,\n",
    "    momentum=momentum,\n",
    "    weight_decay=0.00005\n",
    ")\n",
    "\n",
    "criterion = torch.nn.CrossEntropyLoss().cuda()\n",
    "lr_scheduler = optim.lr_scheduler.StepLR(optimizer, 1, 0.9)"
   ]
  },
  {
   "cell_type": "markdown",
   "metadata": {},
   "source": [
    "## Train"
   ]
  },
  {
   "cell_type": "code",
   "execution_count": null,
   "metadata": {
    "scrolled": false
   },
   "outputs": [],
   "source": [
    "model, _ = train_model(\n",
    "    model, \n",
    "    dataloaders, \n",
    "    criterion, \n",
    "    optimizer, \n",
    "    lr_scheduler,\n",
    "    epochs\n",
    ")"
   ]
  },
  {
   "cell_type": "code",
   "execution_count": null,
   "metadata": {},
   "outputs": [],
   "source": [
    "torch.save(model.state_dict(), save_dir + '/resnext.pth')"
   ]
  },
  {
   "cell_type": "markdown",
   "metadata": {},
   "source": [
    "## K Folds"
   ]
  },
  {
   "cell_type": "code",
   "execution_count": null,
   "metadata": {},
   "outputs": [],
   "source": [
    "from sklearn.model_selection import KFold"
   ]
  },
  {
   "cell_type": "code",
   "execution_count": null,
   "metadata": {
    "scrolled": false
   },
   "outputs": [],
   "source": [
    "kf = KFold(n_splits=8, shuffle=True)\n",
    "dataset = datasets.ImageFolder(\n",
    "data_dir + '/images_crop/',\n",
    "transform=train_transforms\n",
    ")\n",
    "for i, (train_index, test_index) in enumerate(kf.split(dataset)):\n",
    "    if i < 5:\n",
    "        train = torch.utils.data.Subset(dataset, train_index)\n",
    "        test = torch.utils.data.Subset(dataset, test_index)\n",
    "\n",
    "        dataloaders = {\n",
    "            'train': torch.utils.data.DataLoader(\n",
    "                train,\n",
    "                batch_size=batch_size,\n",
    "                shuffle=True, \n",
    "                num_workers=4\n",
    "            ),\n",
    "            'val': torch.utils.data.DataLoader(\n",
    "                test,\n",
    "                batch_size=batch_size,\n",
    "                shuffle=False, \n",
    "                num_workers=4\n",
    "            )\n",
    "        }\n",
    "\n",
    "        print('Fold : {}'.format(i + 1))\n",
    "\n",
    "        model = Resnext101WSL(last_conv=True)\n",
    "        model.cuda()\n",
    "\n",
    "        optimizer = optim.SGD(\n",
    "            model.parameters(), \n",
    "            lr=0.045,\n",
    "            momentum=momentum,\n",
    "            weight_decay=0.00005\n",
    "        )\n",
    "\n",
    "        criterion = torch.nn.CrossEntropyLoss().cuda()\n",
    "        lr_scheduler = optim.lr_scheduler.StepLR(optimizer, 1, 0.6)\n",
    "\n",
    "        model, _ = train_model(\n",
    "            model, \n",
    "            dataloaders, \n",
    "            criterion, \n",
    "            optimizer, \n",
    "            lr_scheduler,\n",
    "            7,\n",
    "            reduce_lr_on_plateau=False\n",
    "        )\n",
    "\n",
    "        torch.save(model.state_dict(), save_dir + '/resnextWSL{}.pth'.format(i))"
   ]
  }
 ],
 "metadata": {
  "kernelspec": {
   "display_name": "Python 3",
   "language": "python",
   "name": "python3"
  },
  "language_info": {
   "codemirror_mode": {
    "name": "ipython",
    "version": 3
   },
   "file_extension": ".py",
   "mimetype": "text/x-python",
   "name": "python",
   "nbconvert_exporter": "python",
   "pygments_lexer": "ipython3",
   "version": "3.6.8"
  }
 },
 "nbformat": 4,
 "nbformat_minor": 2
}
